{
 "cells": [
  {
   "cell_type": "markdown",
   "id": "e28200eb",
   "metadata": {},
   "source": [
    "# Module 3: IPython Magic Commands"
   ]
  },
  {
   "cell_type": "code",
   "execution_count": 1,
   "id": "4542b685",
   "metadata": {},
   "outputs": [],
   "source": [
    "def square(x):\n",
    "    \"\"\"square of a number\"\"\"\n",
    "    return x**2"
   ]
  },
  {
   "cell_type": "code",
   "execution_count": 2,
   "id": "924125bf",
   "metadata": {},
   "outputs": [
    {
     "data": {
      "text/plain": [
       "16"
      ]
     },
     "execution_count": 2,
     "metadata": {},
     "output_type": "execute_result"
    }
   ],
   "source": [
    "square(4)"
   ]
  },
  {
   "cell_type": "code",
   "execution_count": 30,
   "id": "69816bcc",
   "metadata": {},
   "outputs": [],
   "source": [
    "L=[n**2 for n in range(1000)]"
   ]
  },
  {
   "cell_type": "code",
   "execution_count": 31,
   "id": "f5352f50",
   "metadata": {},
   "outputs": [
    {
     "name": "stdout",
     "output_type": "stream",
     "text": [
      "44.4 ns ± 4.3 ns per loop (mean ± std. dev. of 7 runs, 10000000 loops each)\n"
     ]
    }
   ],
   "source": [
    "timeit L"
   ]
  },
  {
   "cell_type": "code",
   "execution_count": 32,
   "id": "95c287e9",
   "metadata": {},
   "outputs": [
    {
     "name": "stdout",
     "output_type": "stream",
     "text": [
      "42.9 ns ± 2.56 ns per loop (mean ± std. dev. of 7 runs, 10000000 loops each)\n"
     ]
    }
   ],
   "source": [
    "#Magic commands are designed to succinctly solve various common problems in standard data analysis\n",
    "%timeit L #magic function"
   ]
  },
  {
   "cell_type": "code",
   "execution_count": null,
   "id": "21b67995",
   "metadata": {},
   "outputs": [],
   "source": [
    "#Magic commands come in two flavors: line magics, \n",
    "#which are denoted by a single % prefix and operate on a single line of input, \n",
    "#and cell magics, which are denoted by a double %% prefix and operate on multiple lines of input"
   ]
  },
  {
   "cell_type": "code",
   "execution_count": 8,
   "id": "a062f53a",
   "metadata": {},
   "outputs": [
    {
     "name": "stdout",
     "output_type": "stream",
     "text": [
      "37.2 ns ± 4.58 ns per loop (mean ± std. dev. of 7 runs, 10000000 loops each)\n"
     ]
    }
   ],
   "source": [
    "%timeit L"
   ]
  },
  {
   "cell_type": "code",
   "execution_count": 27,
   "id": "c0e35a77",
   "metadata": {},
   "outputs": [],
   "source": [
    "L=[]\n",
    "for n in range(1000):\n",
    "    L.append(n**2)"
   ]
  },
  {
   "cell_type": "code",
   "execution_count": 28,
   "id": "58d118b3",
   "metadata": {},
   "outputs": [
    {
     "name": "stdout",
     "output_type": "stream",
     "text": [
      "41.3 ns ± 2.63 ns per loop (mean ± std. dev. of 7 runs, 10000000 loops each)\n"
     ]
    }
   ],
   "source": [
    "timeit L"
   ]
  },
  {
   "cell_type": "code",
   "execution_count": 29,
   "id": "cf193396",
   "metadata": {},
   "outputs": [],
   "source": [
    "%magic"
   ]
  },
  {
   "cell_type": "markdown",
   "id": "4142d479",
   "metadata": {},
   "source": [
    "# Module 4: Input and Output History"
   ]
  },
  {
   "cell_type": "code",
   "execution_count": 34,
   "id": "11882bea",
   "metadata": {},
   "outputs": [
    {
     "data": {
      "text/plain": [
       "0.9092974268256817"
      ]
     },
     "execution_count": 34,
     "metadata": {},
     "output_type": "execute_result"
    }
   ],
   "source": [
    "import math\n",
    "math.sin(2)"
   ]
  },
  {
   "cell_type": "code",
   "execution_count": 35,
   "id": "94d174ca",
   "metadata": {},
   "outputs": [
    {
     "data": {
      "text/plain": [
       "-0.4161468365471424"
      ]
     },
     "execution_count": 35,
     "metadata": {},
     "output_type": "execute_result"
    }
   ],
   "source": [
    "math.cos(2)"
   ]
  },
  {
   "cell_type": "code",
   "execution_count": 36,
   "id": "55548ae8",
   "metadata": {},
   "outputs": [
    {
     "name": "stdout",
     "output_type": "stream",
     "text": [
      "['', 'def square(x):\\n    \"\"\"square of a number\"\"\"\\n    return x**2', 'square(4)', 'L=[n**2 for n in range(1000)]', \"get_ipython().run_line_magic('timeit', '(L)')\", \"get_ipython().run_line_magic('timeit', 'L')\", \"get_ipython().run_cell_magic('timeit', 'L', '')\", \"get_ipython().run_line_magic('timeit', 'L')\", \"get_ipython().run_line_magic('timeit', 'L')\", \"get_ipython().run_line_magic('timeit', '(L)')\", 'for n in range(1000):\\n    L.append(n**2)', \"get_ipython().run_line_magic('timeit', 'L')\", \"get_ipython().run_line_magic('timeit', 'L')\", \"get_ipython().run_line_magic('timeit', 'L')\", \"get_ipython().run_line_magic('timeit', 'L')\", 'L=[n**2 for n in range(1000)]', \"get_ipython().run_line_magic('timeit', '(L)')\", \"get_ipython().run_line_magic('timeit', 'L')\", 'for n in range(1000):\\n    L.append(n**2)', \"get_ipython().run_line_magic('timeit', 'L')\", 'L=[]\\nfor n in range(1000):\\n    L.append(n**2)', \"get_ipython().run_line_magic('timeit', 'L')\", 'L=[n**2 for n in range(1000)]', \"get_ipython().run_line_magic('timeit', '(L)')\", 'L=[n**2 for n in range(1000)]', \"get_ipython().run_line_magic('timeit', 'L')\", \"get_ipython().run_line_magic('timeit', 'L')\", 'L=[]\\nfor n in range(1000):\\n    L.append(n**2)', \"get_ipython().run_line_magic('timeit', 'L')\", \"get_ipython().run_line_magic('magic', '')\", 'L=[n**2 for n in range(1000)]', \"get_ipython().run_line_magic('timeit', 'L')\", \"get_ipython().run_line_magic('timeit', 'L')\", 'import math\\nmath.sin(2)\\nmath.cos(2)', 'import math\\nmath.sin(2)', 'math.cos(2)', 'print(In)']\n"
     ]
    }
   ],
   "source": [
    "print(In)"
   ]
  },
  {
   "cell_type": "code",
   "execution_count": 37,
   "id": "18b71699",
   "metadata": {},
   "outputs": [
    {
     "name": "stdout",
     "output_type": "stream",
     "text": [
      "{2: 16, 33: -0.4161468365471424, 34: 0.9092974268256817, 35: -0.4161468365471424}\n"
     ]
    }
   ],
   "source": [
    "print(Out)"
   ]
  },
  {
   "cell_type": "code",
   "execution_count": 44,
   "id": "8bb2b1ca",
   "metadata": {},
   "outputs": [
    {
     "data": {
      "text/plain": [
       "'len(In)'"
      ]
     },
     "execution_count": 44,
     "metadata": {},
     "output_type": "execute_result"
    }
   ],
   "source": [
    "In[43]"
   ]
  },
  {
   "cell_type": "markdown",
   "id": "f27c2f44",
   "metadata": {},
   "source": [
    "The In object is a list which keeps track of commands in order and it keeps on updating every cell is executed\n",
    "(the first item in the list is a place-holder so that In[1] can refer to the first command)"
   ]
  },
  {
   "cell_type": "markdown",
   "id": "bde2228c",
   "metadata": {},
   "source": [
    "The Out object is not a list but a dictionary mapping input numbers to their outputs (if any)"
   ]
  },
  {
   "cell_type": "code",
   "execution_count": 45,
   "id": "e3dcc514",
   "metadata": {},
   "outputs": [
    {
     "name": "stdout",
     "output_type": "stream",
     "text": [
      "len(In)\n"
     ]
    }
   ],
   "source": [
    "print(_)"
   ]
  },
  {
   "cell_type": "markdown",
   "id": "929954de",
   "metadata": {},
   "source": [
    "IPython takes this a bit further—one can use a double underscore to access the second-to-last output, and a triple underscore to access the third-to-last output (skipping any commands with no output)"
   ]
  },
  {
   "cell_type": "code",
   "execution_count": 46,
   "id": "c2580acd",
   "metadata": {},
   "outputs": [
    {
     "name": "stdout",
     "output_type": "stream",
     "text": [
      "44\n"
     ]
    }
   ],
   "source": [
    "print(__)"
   ]
  },
  {
   "cell_type": "code",
   "execution_count": 47,
   "id": "96eb4266",
   "metadata": {},
   "outputs": [
    {
     "name": "stdout",
     "output_type": "stream",
     "text": [
      "In (38)\n"
     ]
    }
   ],
   "source": [
    "print(___)"
   ]
  },
  {
   "cell_type": "code",
   "execution_count": 48,
   "id": "6636208e",
   "metadata": {},
   "outputs": [
    {
     "data": {
      "text/plain": [
       "16"
      ]
     },
     "execution_count": 48,
     "metadata": {},
     "output_type": "execute_result"
    }
   ],
   "source": [
    "_2"
   ]
  },
  {
   "cell_type": "code",
   "execution_count": 51,
   "id": "f9c85290",
   "metadata": {},
   "outputs": [
    {
     "name": "stdout",
     "output_type": "stream",
     "text": [
      "44\n"
     ]
    }
   ],
   "source": [
    "print(___)"
   ]
  },
  {
   "cell_type": "code",
   "execution_count": 52,
   "id": "8c1cf462",
   "metadata": {},
   "outputs": [
    {
     "ename": "NameError",
     "evalue": "name '____' is not defined",
     "output_type": "error",
     "traceback": [
      "\u001b[1;31m---------------------------------------------------------------------------\u001b[0m",
      "\u001b[1;31mNameError\u001b[0m                                 Traceback (most recent call last)",
      "\u001b[1;32m<ipython-input-52-1a5f5e5067b8>\u001b[0m in \u001b[0;36m<module>\u001b[1;34m()\u001b[0m\n\u001b[1;32m----> 1\u001b[1;33m \u001b[0mprint\u001b[0m\u001b[1;33m(\u001b[0m\u001b[0m____\u001b[0m\u001b[1;33m)\u001b[0m\u001b[1;33m\u001b[0m\u001b[0m\n\u001b[0m",
      "\u001b[1;31mNameError\u001b[0m: name '____' is not defined"
     ]
    }
   ],
   "source": [
    "print(____)"
   ]
  },
  {
   "cell_type": "markdown",
   "id": "332dabd8",
   "metadata": {},
   "source": [
    "IPython stops there: more than three underscores starts to get a bit hard to count, and at that point it's easier to refer to the output by line number"
   ]
  },
  {
   "cell_type": "code",
   "execution_count": 53,
   "id": "2e3fa42c",
   "metadata": {},
   "outputs": [
    {
     "data": {
      "text/plain": [
       "16"
      ]
     },
     "execution_count": 53,
     "metadata": {},
     "output_type": "execute_result"
    }
   ],
   "source": [
    "Out[2]"
   ]
  },
  {
   "cell_type": "markdown",
   "id": "a6bcddf6",
   "metadata": {},
   "source": [
    "There is one more shortcut we should mention, however–a shorthand for Out[X] is _X (i.e., a single underscore followed by the line number):"
   ]
  },
  {
   "cell_type": "code",
   "execution_count": 59,
   "id": "5ee2f229",
   "metadata": {},
   "outputs": [
    {
     "data": {
      "text/plain": [
       "0.9092974268256817"
      ]
     },
     "execution_count": 59,
     "metadata": {},
     "output_type": "execute_result"
    }
   ],
   "source": [
    "_34"
   ]
  },
  {
   "cell_type": "code",
   "execution_count": 63,
   "id": "6d2b1c10",
   "metadata": {},
   "outputs": [
    {
     "data": {
      "text/plain": [
       "0.4931505902785393"
      ]
     },
     "execution_count": 63,
     "metadata": {},
     "output_type": "execute_result"
    }
   ],
   "source": [
    "math.sin(2)+math.cos(2)"
   ]
  },
  {
   "cell_type": "code",
   "execution_count": 64,
   "id": "7276833f",
   "metadata": {},
   "outputs": [
    {
     "name": "stdout",
     "output_type": "stream",
     "text": [
      "{2: 16, 33: -0.4161468365471424, 34: 0.9092974268256817, 35: -0.4161468365471424, 40: 'math.cos(2)', 41: 'In (38)', 43: 44, 44: 'len(In)', 48: 16, 53: 16, 54: 16, 57: -0.4161468365471424, 58: -0.4161468365471424, 59: 0.9092974268256817, 60: 0.4931505902785393, 61: 0.4931505902785393, 63: 0.4931505902785393}\n"
     ]
    }
   ],
   "source": [
    "print(Out)"
   ]
  },
  {
   "cell_type": "code",
   "execution_count": 65,
   "id": "88eb8a1e",
   "metadata": {},
   "outputs": [],
   "source": [
    "math.sin(2)+math.cos(2);"
   ]
  },
  {
   "cell_type": "code",
   "execution_count": 66,
   "id": "6363bb98",
   "metadata": {},
   "outputs": [
    {
     "name": "stdout",
     "output_type": "stream",
     "text": [
      "{2: 16, 33: -0.4161468365471424, 34: 0.9092974268256817, 35: -0.4161468365471424, 40: 'math.cos(2)', 41: 'In (38)', 43: 44, 44: 'len(In)', 48: 16, 53: 16, 54: 16, 57: -0.4161468365471424, 58: -0.4161468365471424, 59: 0.9092974268256817, 60: 0.4931505902785393, 61: 0.4931505902785393, 63: 0.4931505902785393}\n"
     ]
    }
   ],
   "source": [
    "print(Out)"
   ]
  },
  {
   "cell_type": "markdown",
   "id": "7484d410",
   "metadata": {},
   "source": [
    "The result is computed silently, and the output is neither displayed on the screen or stored in the Out dictionary (the semicolon is used at the end of the command to suppress the output here) and thus we cannot see it in the Out dictionary."
   ]
  },
  {
   "cell_type": "code",
   "execution_count": 67,
   "id": "0b6abe11",
   "metadata": {},
   "outputs": [
    {
     "name": "stdout",
     "output_type": "stream",
     "text": [
      "   1:\n",
      "def square(x):\n",
      "    \"\"\"square of a number\"\"\"\n",
      "    return x**2\n",
      "   2: square(4)\n",
      "   3: L=[n**2 for n in range(1000)]\n",
      "   4: timeit(L)\n"
     ]
    }
   ],
   "source": [
    "#For accessing a batch of previous inputs at once, the %history magic command is very helpful. \n",
    "#Here is how you can print the first four inputs:\n",
    "\n",
    "%history -n 1-4"
   ]
  },
  {
   "cell_type": "markdown",
   "id": "3ac72e81",
   "metadata": {},
   "source": [
    "# Module 5: IPython and Shell commands"
   ]
  },
  {
   "cell_type": "code",
   "execution_count": 68,
   "id": "0ec25a3c",
   "metadata": {},
   "outputs": [
    {
     "name": "stdout",
     "output_type": "stream",
     "text": [
      "\"Hello World\"\n"
     ]
    }
   ],
   "source": [
    "echo \"Hello World\""
   ]
  },
  {
   "cell_type": "code",
   "execution_count": 69,
   "id": "87542685",
   "metadata": {},
   "outputs": [
    {
     "data": {
      "text/plain": [
       "'C:\\\\Users\\\\ABHIROCKZZZ\\\\Desktop\\\\Data Science practice\\\\Python Data Science handbook'"
      ]
     },
     "execution_count": 69,
     "metadata": {},
     "output_type": "execute_result"
    }
   ],
   "source": [
    "pwd"
   ]
  },
  {
   "cell_type": "code",
   "execution_count": 70,
   "id": "56c6e9b8",
   "metadata": {},
   "outputs": [
    {
     "name": "stdout",
     "output_type": "stream",
     "text": [
      " Volume in drive C is OS\n",
      " Volume Serial Number is C29F-9244\n",
      "\n",
      " Directory of C:\\Users\\ABHIROCKZZZ\\Desktop\\Data Science practice\\Python Data Science handbook\n",
      "\n",
      "07/03/2022  09:35    <DIR>          .\n",
      "07/03/2022  09:35    <DIR>          ..\n",
      "07/03/2022  09:07    <DIR>          .ipynb_checkpoints\n",
      "07/03/2022  09:35            13,625 Python Data Science handbook.ipynb\n",
      "               1 File(s)         13,625 bytes\n",
      "               3 Dir(s)   3,689,517,056 bytes free\n"
     ]
    }
   ],
   "source": [
    "ls"
   ]
  },
  {
   "cell_type": "code",
   "execution_count": 71,
   "id": "ca0c3c9d",
   "metadata": {},
   "outputs": [
    {
     "name": "stdout",
     "output_type": "stream",
     "text": [
      "[WinError 2] The system cannot find the file specified: 'projects'\n",
      "C:\\Users\\ABHIROCKZZZ\\Desktop\\Data Science practice\\Python Data Science handbook\n"
     ]
    }
   ],
   "source": [
    "cd projects"
   ]
  },
  {
   "cell_type": "code",
   "execution_count": 72,
   "id": "bebae1e0",
   "metadata": {},
   "outputs": [
    {
     "data": {
      "text/plain": [
       "'C:\\\\Users\\\\ABHIROCKZZZ\\\\Desktop\\\\Data Science practice\\\\Python Data Science handbook'"
      ]
     },
     "execution_count": 72,
     "metadata": {},
     "output_type": "execute_result"
    }
   ],
   "source": [
    "pwd #pwd = print working directory"
   ]
  },
  {
   "cell_type": "code",
   "execution_count": 73,
   "id": "5c9d85d2",
   "metadata": {},
   "outputs": [],
   "source": [
    "mkdir myproject #mkdir=make new directory"
   ]
  },
  {
   "cell_type": "code",
   "execution_count": 74,
   "id": "01fc9a77",
   "metadata": {},
   "outputs": [
    {
     "name": "stdout",
     "output_type": "stream",
     "text": [
      "[WinError 2] The system cannot find the file specified: 'myproject #change directory'\n",
      "C:\\Users\\ABHIROCKZZZ\\Desktop\\Data Science practice\\Python Data Science handbook\n"
     ]
    }
   ],
   "source": [
    "cd myproject #change directory"
   ]
  },
  {
   "cell_type": "code",
   "execution_count": 75,
   "id": "93def855",
   "metadata": {},
   "outputs": [
    {
     "name": "stdout",
     "output_type": "stream",
     "text": [
      " Volume in drive C is OS\n",
      " Volume Serial Number is C29F-9244\n",
      "\n",
      " Directory of C:\\Users\\ABHIROCKZZZ\\Desktop\\Data Science practice\\Python Data Science handbook\n",
      "\n",
      "07/03/2022  10:05    <DIR>          #mkdir\n",
      "07/03/2022  10:05    <DIR>          .\n",
      "07/03/2022  10:05    <DIR>          ..\n",
      "07/03/2022  09:07    <DIR>          .ipynb_checkpoints\n",
      "07/03/2022  10:05    <DIR>          directory\n",
      "07/03/2022  10:05    <DIR>          make\n",
      "07/03/2022  10:05    <DIR>          myproject\n",
      "07/03/2022  10:05                 0 myproject.txt\n",
      "07/03/2022  10:05    <DIR>          new\n",
      "07/03/2022  10:05            16,274 Python Data Science handbook.ipynb\n",
      "               2 File(s)         16,274 bytes\n",
      "               8 Dir(s)   3,688,669,184 bytes free\n"
     ]
    }
   ],
   "source": [
    "ls #ls= list working directory contents"
   ]
  },
  {
   "cell_type": "code",
   "execution_count": 78,
   "id": "30aefdce",
   "metadata": {},
   "outputs": [
    {
     "data": {
      "text/plain": [
       "'C:\\\\Users\\\\ABHIROCKZZZ\\\\Desktop\\\\Data Science practice\\\\Python Data Science handbook'"
      ]
     },
     "execution_count": 78,
     "metadata": {},
     "output_type": "execute_result"
    }
   ],
   "source": [
    "pwd"
   ]
  },
  {
   "cell_type": "code",
   "execution_count": 79,
   "id": "85078293",
   "metadata": {},
   "outputs": [
    {
     "name": "stdout",
     "output_type": "stream",
     "text": [
      "C:\\Users\\ABHIROCKZZZ\\Desktop\\Data Science practice\\Python Data Science handbook\\myproject\n"
     ]
    }
   ],
   "source": [
    "cd myproject/"
   ]
  },
  {
   "cell_type": "code",
   "execution_count": 80,
   "id": "827f6483",
   "metadata": {},
   "outputs": [
    {
     "data": {
      "text/plain": [
       "'C:\\\\Users\\\\ABHIROCKZZZ\\\\Desktop\\\\Data Science practice\\\\Python Data Science handbook\\\\myproject'"
      ]
     },
     "execution_count": 80,
     "metadata": {},
     "output_type": "execute_result"
    }
   ],
   "source": [
    "pwd"
   ]
  },
  {
   "cell_type": "code",
   "execution_count": 91,
   "id": "566d3391",
   "metadata": {},
   "outputs": [
    {
     "name": "stdout",
     "output_type": "stream",
     "text": [
      "C:\\Users\\ABHIROCKZZZ\\Desktop\\Data Science practice\\Python Data Science handbook\n"
     ]
    }
   ],
   "source": [
    "cd .."
   ]
  },
  {
   "cell_type": "code",
   "execution_count": 94,
   "id": "144509fc",
   "metadata": {},
   "outputs": [
    {
     "ename": "SyntaxError",
     "evalue": "invalid syntax (<ipython-input-94-023e5604e8f2>, line 1)",
     "output_type": "error",
     "traceback": [
      "\u001b[1;36m  File \u001b[1;32m\"<ipython-input-94-023e5604e8f2>\"\u001b[1;36m, line \u001b[1;32m1\u001b[0m\n\u001b[1;33m    move myproject.txt C:\\\\Users\\\\ABHIROCKZZZ\\\\Desktop\\\\Data Science practice\\\\Python Data Science handbook\\\\myproject\u001b[0m\n\u001b[1;37m                 ^\u001b[0m\n\u001b[1;31mSyntaxError\u001b[0m\u001b[1;31m:\u001b[0m invalid syntax\n"
     ]
    }
   ],
   "source": [
    "move myproject.txt C:\\\\Users\\\\ABHIROCKZZZ\\\\Desktop\\\\Data Science practice\\\\Python Data Science handbook\\\\myproject"
   ]
  },
  {
   "cell_type": "code",
   "execution_count": 95,
   "id": "b43ff706",
   "metadata": {},
   "outputs": [
    {
     "name": "stdout",
     "output_type": "stream",
     "text": [
      " Volume in drive C is OS\n",
      " Volume Serial Number is C29F-9244\n",
      "\n",
      " Directory of C:\\Users\\ABHIROCKZZZ\\Desktop\\Data Science practice\\Python Data Science handbook\n",
      "\n",
      "07/03/2022  10:05    <DIR>          #mkdir\n",
      "07/03/2022  10:23    <DIR>          .\n",
      "07/03/2022  10:23    <DIR>          ..\n",
      "07/03/2022  09:07    <DIR>          .ipynb_checkpoints\n",
      "07/03/2022  10:05    <DIR>          directory\n",
      "07/03/2022  10:05    <DIR>          make\n",
      "07/03/2022  10:05    <DIR>          myproject\n",
      "07/03/2022  10:05                 0 myproject.txt\n",
      "07/03/2022  10:05    <DIR>          new\n",
      "07/03/2022  10:23            20,977 Python Data Science handbook.ipynb\n",
      "               2 File(s)         20,977 bytes\n",
      "               8 Dir(s)   3,687,788,544 bytes free\n"
     ]
    }
   ],
   "source": [
    "ls"
   ]
  },
  {
   "cell_type": "markdown",
   "id": "9093aea8",
   "metadata": {},
   "source": [
    "# Module 6: Errors and Debugging"
   ]
  },
  {
   "cell_type": "markdown",
   "id": "a6455354",
   "metadata": {},
   "source": [
    "Most of the time when a Python script fails, it will raise an Exception. \n",
    "\n",
    "When the interpreter hits one of these exceptions, information about the cause of the error can be found in the traceback, which can be accessed from within Python. \n",
    "\n",
    "With the %xmode magic function, IPython allows you to control the amount of information printed when the exception is raised."
   ]
  },
  {
   "cell_type": "code",
   "execution_count": 101,
   "id": "a12b26df",
   "metadata": {},
   "outputs": [],
   "source": [
    "def f1(a,b):\n",
    "    return a/b"
   ]
  },
  {
   "cell_type": "code",
   "execution_count": 102,
   "id": "e9d152cb",
   "metadata": {},
   "outputs": [],
   "source": [
    "def f2(x):\n",
    "    a=x\n",
    "    b=x-1\n",
    "    return f1(a,b)"
   ]
  },
  {
   "cell_type": "code",
   "execution_count": 103,
   "id": "f7d0d131",
   "metadata": {},
   "outputs": [
    {
     "ename": "ZeroDivisionError",
     "evalue": "division by zero",
     "output_type": "error",
     "traceback": [
      "\u001b[1;31m---------------------------------------------------------------------------\u001b[0m",
      "\u001b[1;31mZeroDivisionError\u001b[0m                         Traceback (most recent call last)",
      "\u001b[1;32m<ipython-input-103-133f42941cdb>\u001b[0m in \u001b[0;36m<module>\u001b[1;34m()\u001b[0m\n\u001b[1;32m----> 1\u001b[1;33m \u001b[0mf2\u001b[0m\u001b[1;33m(\u001b[0m\u001b[1;36m1\u001b[0m\u001b[1;33m)\u001b[0m\u001b[1;33m\u001b[0m\u001b[0m\n\u001b[0m",
      "\u001b[1;32m<ipython-input-102-4f40802cc404>\u001b[0m in \u001b[0;36mf2\u001b[1;34m(x)\u001b[0m\n\u001b[0;32m      2\u001b[0m     \u001b[0ma\u001b[0m\u001b[1;33m=\u001b[0m\u001b[0mx\u001b[0m\u001b[1;33m\u001b[0m\u001b[0m\n\u001b[0;32m      3\u001b[0m     \u001b[0mb\u001b[0m\u001b[1;33m=\u001b[0m\u001b[0mx\u001b[0m\u001b[1;33m-\u001b[0m\u001b[1;36m1\u001b[0m\u001b[1;33m\u001b[0m\u001b[0m\n\u001b[1;32m----> 4\u001b[1;33m     \u001b[1;32mreturn\u001b[0m \u001b[0mf1\u001b[0m\u001b[1;33m(\u001b[0m\u001b[0ma\u001b[0m\u001b[1;33m,\u001b[0m\u001b[0mb\u001b[0m\u001b[1;33m)\u001b[0m\u001b[1;33m\u001b[0m\u001b[0m\n\u001b[0m",
      "\u001b[1;32m<ipython-input-101-455c8985ccab>\u001b[0m in \u001b[0;36mf1\u001b[1;34m(a, b)\u001b[0m\n\u001b[0;32m      1\u001b[0m \u001b[1;32mdef\u001b[0m \u001b[0mf1\u001b[0m\u001b[1;33m(\u001b[0m\u001b[0ma\u001b[0m\u001b[1;33m,\u001b[0m\u001b[0mb\u001b[0m\u001b[1;33m)\u001b[0m\u001b[1;33m:\u001b[0m\u001b[1;33m\u001b[0m\u001b[0m\n\u001b[1;32m----> 2\u001b[1;33m     \u001b[1;32mreturn\u001b[0m \u001b[0ma\u001b[0m\u001b[1;33m/\u001b[0m\u001b[0mb\u001b[0m\u001b[1;33m\u001b[0m\u001b[0m\n\u001b[0m",
      "\u001b[1;31mZeroDivisionError\u001b[0m: division by zero"
     ]
    }
   ],
   "source": [
    "f2(1)"
   ]
  },
  {
   "cell_type": "code",
   "execution_count": 107,
   "id": "485efe50",
   "metadata": {},
   "outputs": [
    {
     "name": "stdout",
     "output_type": "stream",
     "text": [
      "Exception reporting mode: Plain\n"
     ]
    }
   ],
   "source": [
    "%xmode Plain"
   ]
  },
  {
   "cell_type": "code",
   "execution_count": 108,
   "id": "72153cfd",
   "metadata": {},
   "outputs": [
    {
     "ename": "ZeroDivisionError",
     "evalue": "division by zero",
     "output_type": "error",
     "traceback": [
      "Traceback \u001b[1;36m(most recent call last)\u001b[0m:\n",
      "  File \u001b[0;32m\"<ipython-input-108-133f42941cdb>\"\u001b[0m, line \u001b[0;32m1\u001b[0m, in \u001b[0;35m<module>\u001b[0m\n    f2(1)\n",
      "  File \u001b[0;32m\"<ipython-input-102-4f40802cc404>\"\u001b[0m, line \u001b[0;32m4\u001b[0m, in \u001b[0;35mf2\u001b[0m\n    return f1(a,b)\n",
      "\u001b[1;36m  File \u001b[1;32m\"<ipython-input-101-455c8985ccab>\"\u001b[1;36m, line \u001b[1;32m2\u001b[1;36m, in \u001b[1;35mf1\u001b[1;36m\u001b[0m\n\u001b[1;33m    return a/b\u001b[0m\n",
      "\u001b[1;31mZeroDivisionError\u001b[0m\u001b[1;31m:\u001b[0m division by zero\n"
     ]
    }
   ],
   "source": [
    "f2(1)"
   ]
  },
  {
   "cell_type": "code",
   "execution_count": 109,
   "id": "74e90b9a",
   "metadata": {},
   "outputs": [
    {
     "name": "stdout",
     "output_type": "stream",
     "text": [
      "Exception reporting mode: Context\n"
     ]
    }
   ],
   "source": [
    "%xmode Context"
   ]
  },
  {
   "cell_type": "code",
   "execution_count": 110,
   "id": "b7ca9181",
   "metadata": {},
   "outputs": [
    {
     "ename": "ZeroDivisionError",
     "evalue": "division by zero",
     "output_type": "error",
     "traceback": [
      "\u001b[1;31m---------------------------------------------------------------------------\u001b[0m",
      "\u001b[1;31mZeroDivisionError\u001b[0m                         Traceback (most recent call last)",
      "\u001b[1;32m<ipython-input-110-133f42941cdb>\u001b[0m in \u001b[0;36m<module>\u001b[1;34m()\u001b[0m\n\u001b[1;32m----> 1\u001b[1;33m \u001b[0mf2\u001b[0m\u001b[1;33m(\u001b[0m\u001b[1;36m1\u001b[0m\u001b[1;33m)\u001b[0m\u001b[1;33m\u001b[0m\u001b[0m\n\u001b[0m",
      "\u001b[1;32m<ipython-input-102-4f40802cc404>\u001b[0m in \u001b[0;36mf2\u001b[1;34m(x)\u001b[0m\n\u001b[0;32m      2\u001b[0m     \u001b[0ma\u001b[0m\u001b[1;33m=\u001b[0m\u001b[0mx\u001b[0m\u001b[1;33m\u001b[0m\u001b[0m\n\u001b[0;32m      3\u001b[0m     \u001b[0mb\u001b[0m\u001b[1;33m=\u001b[0m\u001b[0mx\u001b[0m\u001b[1;33m-\u001b[0m\u001b[1;36m1\u001b[0m\u001b[1;33m\u001b[0m\u001b[0m\n\u001b[1;32m----> 4\u001b[1;33m     \u001b[1;32mreturn\u001b[0m \u001b[0mf1\u001b[0m\u001b[1;33m(\u001b[0m\u001b[0ma\u001b[0m\u001b[1;33m,\u001b[0m\u001b[0mb\u001b[0m\u001b[1;33m)\u001b[0m\u001b[1;33m\u001b[0m\u001b[0m\n\u001b[0m",
      "\u001b[1;32m<ipython-input-101-455c8985ccab>\u001b[0m in \u001b[0;36mf1\u001b[1;34m(a, b)\u001b[0m\n\u001b[0;32m      1\u001b[0m \u001b[1;32mdef\u001b[0m \u001b[0mf1\u001b[0m\u001b[1;33m(\u001b[0m\u001b[0ma\u001b[0m\u001b[1;33m,\u001b[0m\u001b[0mb\u001b[0m\u001b[1;33m)\u001b[0m\u001b[1;33m:\u001b[0m\u001b[1;33m\u001b[0m\u001b[0m\n\u001b[1;32m----> 2\u001b[1;33m     \u001b[1;32mreturn\u001b[0m \u001b[0ma\u001b[0m\u001b[1;33m/\u001b[0m\u001b[0mb\u001b[0m\u001b[1;33m\u001b[0m\u001b[0m\n\u001b[0m",
      "\u001b[1;31mZeroDivisionError\u001b[0m: division by zero"
     ]
    }
   ],
   "source": [
    "f2(1)"
   ]
  },
  {
   "cell_type": "code",
   "execution_count": 111,
   "id": "e4019a1a",
   "metadata": {},
   "outputs": [
    {
     "name": "stdout",
     "output_type": "stream",
     "text": [
      "Exception reporting mode: Verbose\n"
     ]
    }
   ],
   "source": [
    "%xmode Verbose"
   ]
  },
  {
   "cell_type": "code",
   "execution_count": 112,
   "id": "17ef18da",
   "metadata": {},
   "outputs": [
    {
     "ename": "ZeroDivisionError",
     "evalue": "division by zero",
     "output_type": "error",
     "traceback": [
      "\u001b[1;31m---------------------------------------------------------------------------\u001b[0m",
      "\u001b[1;31mZeroDivisionError\u001b[0m                         Traceback (most recent call last)",
      "\u001b[1;32m<ipython-input-112-133f42941cdb>\u001b[0m in \u001b[0;36m<module>\u001b[1;34m()\u001b[0m\n\u001b[1;32m----> 1\u001b[1;33m \u001b[0mf2\u001b[0m\u001b[1;33m(\u001b[0m\u001b[1;36m1\u001b[0m\u001b[1;33m)\u001b[0m\u001b[1;33m\u001b[0m\u001b[0m\n\u001b[0m        \u001b[1;36mglobal\u001b[0m \u001b[0;36mf2\u001b[0m \u001b[1;34m= <function f2 at 0x0000018C51A4FC80>\u001b[0m\n",
      "\u001b[1;32m<ipython-input-102-4f40802cc404>\u001b[0m in \u001b[0;36mf2\u001b[1;34m(x=1)\u001b[0m\n\u001b[0;32m      2\u001b[0m     \u001b[0ma\u001b[0m\u001b[1;33m=\u001b[0m\u001b[0mx\u001b[0m\u001b[1;33m\u001b[0m\u001b[0m\n\u001b[0;32m      3\u001b[0m     \u001b[0mb\u001b[0m\u001b[1;33m=\u001b[0m\u001b[0mx\u001b[0m\u001b[1;33m-\u001b[0m\u001b[1;36m1\u001b[0m\u001b[1;33m\u001b[0m\u001b[0m\n\u001b[1;32m----> 4\u001b[1;33m     \u001b[1;32mreturn\u001b[0m \u001b[0mf1\u001b[0m\u001b[1;33m(\u001b[0m\u001b[0ma\u001b[0m\u001b[1;33m,\u001b[0m\u001b[0mb\u001b[0m\u001b[1;33m)\u001b[0m\u001b[1;33m\u001b[0m\u001b[0m\n\u001b[0m        \u001b[1;36mglobal\u001b[0m \u001b[0;36mf1\u001b[0m \u001b[1;34m= <function f1 at 0x0000018C51A4FA60>\u001b[0m\u001b[1;34m\n        \u001b[0m\u001b[0;36ma\u001b[0m \u001b[1;34m= 1\u001b[0m\u001b[1;34m\n        \u001b[0m\u001b[0;36mb\u001b[0m \u001b[1;34m= 0\u001b[0m\n",
      "\u001b[1;32m<ipython-input-101-455c8985ccab>\u001b[0m in \u001b[0;36mf1\u001b[1;34m(a=1, b=0)\u001b[0m\n\u001b[0;32m      1\u001b[0m \u001b[1;32mdef\u001b[0m \u001b[0mf1\u001b[0m\u001b[1;33m(\u001b[0m\u001b[0ma\u001b[0m\u001b[1;33m,\u001b[0m\u001b[0mb\u001b[0m\u001b[1;33m)\u001b[0m\u001b[1;33m:\u001b[0m\u001b[1;33m\u001b[0m\u001b[0m\n\u001b[1;32m----> 2\u001b[1;33m     \u001b[1;32mreturn\u001b[0m \u001b[0ma\u001b[0m\u001b[1;33m/\u001b[0m\u001b[0mb\u001b[0m\u001b[1;33m\u001b[0m\u001b[0m\n\u001b[0m        \u001b[0;36ma\u001b[0m \u001b[1;34m= 1\u001b[0m\u001b[1;34m\n        \u001b[0m\u001b[0;36mb\u001b[0m \u001b[1;34m= 0\u001b[0m\n",
      "\u001b[1;31mZeroDivisionError\u001b[0m: division by zero"
     ]
    }
   ],
   "source": [
    "f2(1)"
   ]
  },
  {
   "cell_type": "markdown",
   "id": "5151218d",
   "metadata": {},
   "source": [
    "%xmode takes a single argument, the mode, and there are three possibilities: Plain, Context, and Verbose. The default is Context, and gives output like that just shown before. Plain is more compact and gives less information\n",
    "\n",
    "This extra information can help narrow-in on why the exception is being raised. So why not use the Verbose mode all the time? As code gets complicated, this kind of traceback can get extremely long. Depending on the context, sometimes the brevity of Default mode is easier to work with."
   ]
  },
  {
   "cell_type": "markdown",
   "id": "c015d269",
   "metadata": {},
   "source": [
    "Debugging: When Reading Tracebacks Is Not Enough\n",
    "\n",
    "In IPython, perhaps the most convenient interface to debugging is the %debug magic command. If you call it after hitting an exception, it will automatically open an interactive debugging prompt at the point of the exception. \n",
    "\n",
    "The ipdb prompt lets you explore the current state of the stack, explore the available variables, and even run Python commands!\n",
    "\n",
    "Let's look at the most recent exception, then do some basic tasks–print the values of a and b, and type quit to quit the debugging session:"
   ]
  },
  {
   "cell_type": "code",
   "execution_count": 113,
   "id": "fd1fd2c7",
   "metadata": {},
   "outputs": [
    {
     "name": "stdout",
     "output_type": "stream",
     "text": [
      "> \u001b[1;32m<ipython-input-101-455c8985ccab>\u001b[0m(2)\u001b[0;36mf1\u001b[1;34m()\u001b[0m\n",
      "\u001b[1;32m      1 \u001b[1;33m\u001b[1;32mdef\u001b[0m \u001b[0mf1\u001b[0m\u001b[1;33m(\u001b[0m\u001b[0ma\u001b[0m\u001b[1;33m,\u001b[0m\u001b[0mb\u001b[0m\u001b[1;33m)\u001b[0m\u001b[1;33m:\u001b[0m\u001b[1;33m\u001b[0m\u001b[0m\n",
      "\u001b[0m\u001b[1;32m----> 2 \u001b[1;33m    \u001b[1;32mreturn\u001b[0m \u001b[0ma\u001b[0m\u001b[1;33m/\u001b[0m\u001b[0mb\u001b[0m\u001b[1;33m\u001b[0m\u001b[0m\n",
      "\u001b[0m\n",
      "ipdb> print(a)\n",
      "1\n",
      "ipdb> print(b)\n",
      "0\n",
      "ipdb> quit\n"
     ]
    }
   ],
   "source": [
    "%debug"
   ]
  },
  {
   "cell_type": "code",
   "execution_count": 114,
   "id": "f51e09b4",
   "metadata": {},
   "outputs": [
    {
     "name": "stdout",
     "output_type": "stream",
     "text": [
      "> \u001b[1;32m<ipython-input-101-455c8985ccab>\u001b[0m(2)\u001b[0;36mf1\u001b[1;34m()\u001b[0m\n",
      "\u001b[1;32m      1 \u001b[1;33m\u001b[1;32mdef\u001b[0m \u001b[0mf1\u001b[0m\u001b[1;33m(\u001b[0m\u001b[0ma\u001b[0m\u001b[1;33m,\u001b[0m\u001b[0mb\u001b[0m\u001b[1;33m)\u001b[0m\u001b[1;33m:\u001b[0m\u001b[1;33m\u001b[0m\u001b[0m\n",
      "\u001b[0m\u001b[1;32m----> 2 \u001b[1;33m    \u001b[1;32mreturn\u001b[0m \u001b[0ma\u001b[0m\u001b[1;33m/\u001b[0m\u001b[0mb\u001b[0m\u001b[1;33m\u001b[0m\u001b[0m\n",
      "\u001b[0m\n",
      "ipdb> up\n",
      "> \u001b[1;32m<ipython-input-102-4f40802cc404>\u001b[0m(4)\u001b[0;36mf2\u001b[1;34m()\u001b[0m\n",
      "\u001b[1;32m      1 \u001b[1;33m\u001b[1;32mdef\u001b[0m \u001b[0mf2\u001b[0m\u001b[1;33m(\u001b[0m\u001b[0mx\u001b[0m\u001b[1;33m)\u001b[0m\u001b[1;33m:\u001b[0m\u001b[1;33m\u001b[0m\u001b[0m\n",
      "\u001b[0m\u001b[1;32m      2 \u001b[1;33m    \u001b[0ma\u001b[0m\u001b[1;33m=\u001b[0m\u001b[0mx\u001b[0m\u001b[1;33m\u001b[0m\u001b[0m\n",
      "\u001b[0m\u001b[1;32m      3 \u001b[1;33m    \u001b[0mb\u001b[0m\u001b[1;33m=\u001b[0m\u001b[0mx\u001b[0m\u001b[1;33m-\u001b[0m\u001b[1;36m1\u001b[0m\u001b[1;33m\u001b[0m\u001b[0m\n",
      "\u001b[0m\u001b[1;32m----> 4 \u001b[1;33m    \u001b[1;32mreturn\u001b[0m \u001b[0mf1\u001b[0m\u001b[1;33m(\u001b[0m\u001b[0ma\u001b[0m\u001b[1;33m,\u001b[0m\u001b[0mb\u001b[0m\u001b[1;33m)\u001b[0m\u001b[1;33m\u001b[0m\u001b[0m\n",
      "\u001b[0m\n",
      "ipdb> print(x)\n",
      "1\n",
      "ipdb> up\n",
      "> \u001b[1;32m<ipython-input-112-133f42941cdb>\u001b[0m(1)\u001b[0;36m<module>\u001b[1;34m()\u001b[0m\n",
      "\u001b[1;32m----> 1 \u001b[1;33m\u001b[0mf2\u001b[0m\u001b[1;33m(\u001b[0m\u001b[1;36m1\u001b[0m\u001b[1;33m)\u001b[0m\u001b[1;33m\u001b[0m\u001b[0m\n",
      "\u001b[0m\n",
      "ipdb> down\n",
      "> \u001b[1;32m<ipython-input-102-4f40802cc404>\u001b[0m(4)\u001b[0;36mf2\u001b[1;34m()\u001b[0m\n",
      "\u001b[1;32m      1 \u001b[1;33m\u001b[1;32mdef\u001b[0m \u001b[0mf2\u001b[0m\u001b[1;33m(\u001b[0m\u001b[0mx\u001b[0m\u001b[1;33m)\u001b[0m\u001b[1;33m:\u001b[0m\u001b[1;33m\u001b[0m\u001b[0m\n",
      "\u001b[0m\u001b[1;32m      2 \u001b[1;33m    \u001b[0ma\u001b[0m\u001b[1;33m=\u001b[0m\u001b[0mx\u001b[0m\u001b[1;33m\u001b[0m\u001b[0m\n",
      "\u001b[0m\u001b[1;32m      3 \u001b[1;33m    \u001b[0mb\u001b[0m\u001b[1;33m=\u001b[0m\u001b[0mx\u001b[0m\u001b[1;33m-\u001b[0m\u001b[1;36m1\u001b[0m\u001b[1;33m\u001b[0m\u001b[0m\n",
      "\u001b[0m\u001b[1;32m----> 4 \u001b[1;33m    \u001b[1;32mreturn\u001b[0m \u001b[0mf1\u001b[0m\u001b[1;33m(\u001b[0m\u001b[0ma\u001b[0m\u001b[1;33m,\u001b[0m\u001b[0mb\u001b[0m\u001b[1;33m)\u001b[0m\u001b[1;33m\u001b[0m\u001b[0m\n",
      "\u001b[0m\n",
      "ipdb> quit\n"
     ]
    }
   ],
   "source": [
    "%debug"
   ]
  },
  {
   "cell_type": "markdown",
   "id": "293d0d45",
   "metadata": {},
   "source": [
    "If you'd like the debugger to launch automatically whenever an exception is raised, you can use the %pdb magic function to turn on this automatic behavior:"
   ]
  },
  {
   "cell_type": "code",
   "execution_count": 116,
   "id": "815dd5dc",
   "metadata": {},
   "outputs": [
    {
     "name": "stdout",
     "output_type": "stream",
     "text": [
      "Exception reporting mode: Plain\n",
      "Automatic pdb calling has been turned ON\n"
     ]
    },
    {
     "ename": "ZeroDivisionError",
     "evalue": "division by zero",
     "output_type": "error",
     "traceback": [
      "Traceback \u001b[1;36m(most recent call last)\u001b[0m:\n",
      "  File \u001b[0;32m\"<ipython-input-116-e73e4d5c8836>\"\u001b[0m, line \u001b[0;32m3\u001b[0m, in \u001b[0;35m<module>\u001b[0m\n    f2(1)\n",
      "  File \u001b[0;32m\"<ipython-input-102-4f40802cc404>\"\u001b[0m, line \u001b[0;32m4\u001b[0m, in \u001b[0;35mf2\u001b[0m\n    return f1(a,b)\n",
      "\u001b[1;36m  File \u001b[1;32m\"<ipython-input-101-455c8985ccab>\"\u001b[1;36m, line \u001b[1;32m2\u001b[1;36m, in \u001b[1;35mf1\u001b[1;36m\u001b[0m\n\u001b[1;33m    return a/b\u001b[0m\n",
      "\u001b[1;31mZeroDivisionError\u001b[0m\u001b[1;31m:\u001b[0m division by zero\n"
     ]
    },
    {
     "name": "stdout",
     "output_type": "stream",
     "text": [
      "> \u001b[1;32m<ipython-input-101-455c8985ccab>\u001b[0m(2)\u001b[0;36mf1\u001b[1;34m()\u001b[0m\n",
      "\u001b[1;32m      1 \u001b[1;33m\u001b[1;32mdef\u001b[0m \u001b[0mf1\u001b[0m\u001b[1;33m(\u001b[0m\u001b[0ma\u001b[0m\u001b[1;33m,\u001b[0m\u001b[0mb\u001b[0m\u001b[1;33m)\u001b[0m\u001b[1;33m:\u001b[0m\u001b[1;33m\u001b[0m\u001b[0m\n",
      "\u001b[0m\u001b[1;32m----> 2 \u001b[1;33m    \u001b[1;32mreturn\u001b[0m \u001b[0ma\u001b[0m\u001b[1;33m/\u001b[0m\u001b[0mb\u001b[0m\u001b[1;33m\u001b[0m\u001b[0m\n",
      "\u001b[0m\n",
      "ipdb> print(b)\n",
      "0\n",
      "ipdb> quit\n"
     ]
    }
   ],
   "source": [
    "%xmode Plain\n",
    "%pdb on\n",
    "f2(1)"
   ]
  },
  {
   "cell_type": "markdown",
   "id": "9542da9a",
   "metadata": {},
   "source": [
    "list\tShow the current location in the file\n",
    "h(elp)\tShow a list of commands, or find help on a specific command\n",
    "q(uit)\tQuit the debugger and the program\n",
    "c(ontinue)\tQuit the debugger, continue in the program\n",
    "n(ext)\tGo to the next step of the program\n",
    "<enter>\tRepeat the previous command\n",
    "p(rint)\tPrint variables\n",
    "s(tep)\tStep into a subroutine\n",
    "r(eturn) Return out of a subroutine"
   ]
  },
  {
   "cell_type": "markdown",
   "id": "e55515c6",
   "metadata": {},
   "source": [
    "# Profiling and Timing Code"
   ]
  },
  {
   "cell_type": "markdown",
   "id": "6b39002a",
   "metadata": {},
   "source": [
    "%time: Time the execution of a single statement\n",
    "%timeit: Time repeated execution of a single statement for more accuracy\n",
    "%prun: Run code with the profiler\n",
    "%lprun: Run code with the line-by-line profiler\n",
    "%memit: Measure the memory use of a single statement\n",
    "%mprun: Run code with the line-by-line memory profiler"
   ]
  },
  {
   "cell_type": "code",
   "execution_count": 2,
   "id": "e125f2a9",
   "metadata": {},
   "outputs": [
    {
     "name": "stdout",
     "output_type": "stream",
     "text": [
      "1.5 µs ± 58.4 ns per loop (mean ± std. dev. of 7 runs, 1000000 loops each)\n"
     ]
    }
   ],
   "source": [
    "%timeit sum(range(100))"
   ]
  },
  {
   "cell_type": "code",
   "execution_count": 3,
   "id": "eb12b95c",
   "metadata": {},
   "outputs": [
    {
     "name": "stdout",
     "output_type": "stream",
     "text": [
      "553 ms ± 26 ms per loop (mean ± std. dev. of 7 runs, 1 loop each)\n"
     ]
    }
   ],
   "source": [
    "%%timeit\n",
    "total = 0\n",
    "for i in range(1000):\n",
    "    for j in range(1000):\n",
    "        total += i * (-1) ** j"
   ]
  },
  {
   "cell_type": "code",
   "execution_count": 4,
   "id": "d3cd18b5",
   "metadata": {},
   "outputs": [
    {
     "name": "stdout",
     "output_type": "stream",
     "text": [
      "3.15 ms ± 373 µs per loop (mean ± std. dev. of 7 runs, 100 loops each)\n"
     ]
    }
   ],
   "source": [
    "import random\n",
    "L=[random.random() for i in range(100000)]\n",
    "%timeit L.sort()"
   ]
  },
  {
   "cell_type": "code",
   "execution_count": 5,
   "id": "6fef7dd9",
   "metadata": {},
   "outputs": [
    {
     "name": "stdout",
     "output_type": "stream",
     "text": [
      "sorting an unsorted list:\n",
      "Wall time: 52.9 ms\n"
     ]
    }
   ],
   "source": [
    "import random\n",
    "L=[random.random() for i in range(100000)]\n",
    "print('sorting an unsorted list:')\n",
    "%time L.sort()"
   ]
  },
  {
   "cell_type": "code",
   "execution_count": 6,
   "id": "fe66a278",
   "metadata": {},
   "outputs": [
    {
     "name": "stdout",
     "output_type": "stream",
     "text": [
      "sorting an already sorted list:\n",
      "Wall time: 2.99 ms\n"
     ]
    }
   ],
   "source": [
    "print(\"sorting an already sorted list:\")\n",
    "%time L.sort()"
   ]
  },
  {
   "cell_type": "code",
   "execution_count": 7,
   "id": "78a7bc15",
   "metadata": {},
   "outputs": [],
   "source": [
    "def sum_of_lists(N):\n",
    "    total = 0\n",
    "    for i in range(5):\n",
    "        L = [j ^ (j >> i) for j in range(N)]\n",
    "        total += sum(L)\n",
    "    return total"
   ]
  },
  {
   "cell_type": "code",
   "execution_count": 8,
   "id": "a9fe4543",
   "metadata": {},
   "outputs": [
    {
     "name": "stdout",
     "output_type": "stream",
     "text": [
      " "
     ]
    }
   ],
   "source": [
    "%prun sum_of_lists(1000000)"
   ]
  },
  {
   "cell_type": "code",
   "execution_count": 9,
   "id": "81c383a5",
   "metadata": {},
   "outputs": [
    {
     "name": "stdout",
     "output_type": "stream",
     "text": [
      "2038036892544\n"
     ]
    }
   ],
   "source": [
    "print(sum_of_lists(1000000))"
   ]
  },
  {
   "cell_type": "code",
   "execution_count": 10,
   "id": "16ee6b3f",
   "metadata": {},
   "outputs": [
    {
     "name": "stdout",
     "output_type": "stream",
     "text": [
      "Collecting line_profiler\n",
      "  Downloading line_profiler-3.4.0-cp36-cp36m-win_amd64.whl (50 kB)\n",
      "Requirement already satisfied: IPython<7.17.0,>=0.13 in c:\\users\\abhirockzzz\\anaconda3\\lib\\site-packages (from line_profiler) (6.4.0)\n",
      "Requirement already satisfied: setuptools>=18.5 in c:\\users\\abhirockzzz\\anaconda3\\lib\\site-packages (from IPython<7.17.0,>=0.13->line_profiler) (56.1.0)\n",
      "Requirement already satisfied: simplegeneric>0.8 in c:\\users\\abhirockzzz\\anaconda3\\lib\\site-packages (from IPython<7.17.0,>=0.13->line_profiler) (0.8.1)\n",
      "Requirement already satisfied: traitlets>=4.2 in c:\\users\\abhirockzzz\\anaconda3\\lib\\site-packages (from IPython<7.17.0,>=0.13->line_profiler) (4.3.2)\n",
      "Requirement already satisfied: prompt-toolkit<2.0.0,>=1.0.15 in c:\\users\\abhirockzzz\\anaconda3\\lib\\site-packages (from IPython<7.17.0,>=0.13->line_profiler) (1.0.15)\n",
      "Requirement already satisfied: backcall in c:\\users\\abhirockzzz\\anaconda3\\lib\\site-packages (from IPython<7.17.0,>=0.13->line_profiler) (0.1.0)\n",
      "Requirement already satisfied: jedi>=0.10 in c:\\users\\abhirockzzz\\anaconda3\\lib\\site-packages (from IPython<7.17.0,>=0.13->line_profiler) (0.12.0)\n",
      "Requirement already satisfied: pygments in c:\\users\\abhirockzzz\\appdata\\roaming\\python\\python36\\site-packages (from IPython<7.17.0,>=0.13->line_profiler) (2.9.0)\n",
      "Requirement already satisfied: decorator in c:\\users\\abhirockzzz\\anaconda3\\lib\\site-packages (from IPython<7.17.0,>=0.13->line_profiler) (4.3.0)\n",
      "Requirement already satisfied: pickleshare in c:\\users\\abhirockzzz\\anaconda3\\lib\\site-packages (from IPython<7.17.0,>=0.13->line_profiler) (0.7.4)\n",
      "Requirement already satisfied: colorama in c:\\users\\abhirockzzz\\anaconda3\\lib\\site-packages (from IPython<7.17.0,>=0.13->line_profiler) (0.3.9)\n",
      "Requirement already satisfied: parso>=0.2.0 in c:\\users\\abhirockzzz\\anaconda3\\lib\\site-packages (from jedi>=0.10->IPython<7.17.0,>=0.13->line_profiler) (0.2.0)\n",
      "Requirement already satisfied: six>=1.9.0 in c:\\users\\abhirockzzz\\anaconda3\\lib\\site-packages (from prompt-toolkit<2.0.0,>=1.0.15->IPython<7.17.0,>=0.13->line_profiler) (1.16.0)\n",
      "Requirement already satisfied: wcwidth in c:\\users\\abhirockzzz\\anaconda3\\lib\\site-packages (from prompt-toolkit<2.0.0,>=1.0.15->IPython<7.17.0,>=0.13->line_profiler) (0.1.7)\n",
      "Requirement already satisfied: ipython_genutils in c:\\users\\abhirockzzz\\anaconda3\\lib\\site-packages (from traitlets>=4.2->IPython<7.17.0,>=0.13->line_profiler) (0.2.0)\n",
      "Installing collected packages: line-profiler\n",
      "Successfully installed line-profiler-3.4.0\n"
     ]
    }
   ],
   "source": [
    "!pip3 install line_profiler"
   ]
  },
  {
   "cell_type": "code",
   "execution_count": 11,
   "id": "f555990e",
   "metadata": {},
   "outputs": [],
   "source": [
    "%load_ext line_profiler"
   ]
  },
  {
   "cell_type": "code",
   "execution_count": 12,
   "id": "40d9a0c3",
   "metadata": {},
   "outputs": [],
   "source": [
    "%lprun -f sum_of_lists sum_of_lists(5000)"
   ]
  },
  {
   "cell_type": "code",
   "execution_count": 13,
   "id": "067353f7",
   "metadata": {},
   "outputs": [
    {
     "name": "stdout",
     "output_type": "stream",
     "text": [
      "Collecting memory_profiler\n",
      "  Downloading memory_profiler-0.60.0.tar.gz (38 kB)\n",
      "  Preparing metadata (setup.py): started\n",
      "  Preparing metadata (setup.py): finished with status 'done'\n",
      "Requirement already satisfied: psutil in c:\\users\\abhirockzzz\\anaconda3\\lib\\site-packages (from memory_profiler) (5.4.5)\n",
      "Building wheels for collected packages: memory-profiler\n",
      "  Building wheel for memory-profiler (setup.py): started\n",
      "  Building wheel for memory-profiler (setup.py): finished with status 'done'\n",
      "  Created wheel for memory-profiler: filename=memory_profiler-0.60.0-py3-none-any.whl size=31276 sha256=f7b5c3a4cd6bb006e0182e2ea726656fe4bb2d1fbfea06c062a76159c092b4b9\n",
      "  Stored in directory: c:\\users\\abhirockzzz\\appdata\\local\\pip\\cache\\wheels\\fa\\25\\84\\7bfb2bb7941fbd05a1cda2137057f22888c26189445c6032ec\n",
      "Successfully built memory-profiler\n",
      "Installing collected packages: memory-profiler\n",
      "Successfully installed memory-profiler-0.60.0\n"
     ]
    }
   ],
   "source": [
    "!pip3 install memory_profiler"
   ]
  },
  {
   "cell_type": "code",
   "execution_count": 14,
   "id": "81d754a4",
   "metadata": {},
   "outputs": [],
   "source": [
    "%load_ext memory_profiler"
   ]
  },
  {
   "cell_type": "code",
   "execution_count": 15,
   "id": "1d77b6bb",
   "metadata": {},
   "outputs": [
    {
     "name": "stdout",
     "output_type": "stream",
     "text": [
      "peak memory: 105.23 MiB, increment: 57.17 MiB\n"
     ]
    }
   ],
   "source": [
    "%memit sum_of_lists(1000000) #memory-measuring equivalent of %timeit"
   ]
  },
  {
   "cell_type": "code",
   "execution_count": 16,
   "id": "a994c954",
   "metadata": {},
   "outputs": [
    {
     "name": "stdout",
     "output_type": "stream",
     "text": [
      "Writing mprun_demo.py\n"
     ]
    }
   ],
   "source": [
    "%%file mprun_demo.py\n",
    "def sum_of_lists(N):\n",
    "    total = 0\n",
    "    for i in range(5):\n",
    "        L = [j ^ (j >> i) for j in range(N)]\n",
    "        total += sum(L)\n",
    "        del L # remove reference to L\n",
    "    return total"
   ]
  },
  {
   "cell_type": "code",
   "execution_count": 17,
   "id": "0c6a644d",
   "metadata": {},
   "outputs": [
    {
     "name": "stdout",
     "output_type": "stream",
     "text": [
      "\n"
     ]
    }
   ],
   "source": [
    "from mprun_demo import sum_of_lists\n",
    "%mprun -f sum_of_lists sum_of_lists(1000000)"
   ]
  },
  {
   "cell_type": "code",
   "execution_count": null,
   "id": "02000493",
   "metadata": {},
   "outputs": [],
   "source": []
  }
 ],
 "metadata": {
  "kernelspec": {
   "display_name": "Python 3",
   "language": "python",
   "name": "python3"
  },
  "language_info": {
   "codemirror_mode": {
    "name": "ipython",
    "version": 3
   },
   "file_extension": ".py",
   "mimetype": "text/x-python",
   "name": "python",
   "nbconvert_exporter": "python",
   "pygments_lexer": "ipython3",
   "version": "3.6.5"
  }
 },
 "nbformat": 4,
 "nbformat_minor": 5
}
